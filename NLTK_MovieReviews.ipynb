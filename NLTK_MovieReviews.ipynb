{
 "metadata": {
  "language_info": {
   "codemirror_mode": {
    "name": "ipython",
    "version": 3
   },
   "file_extension": ".py",
   "mimetype": "text/x-python",
   "name": "python",
   "nbconvert_exporter": "python",
   "pygments_lexer": "ipython3",
   "version": "3.9.0-final"
  },
  "orig_nbformat": 2,
  "kernelspec": {
   "name": "python3",
   "display_name": "Python 3"
  }
 },
 "nbformat": 4,
 "nbformat_minor": 2,
 "cells": [
  {
   "source": [
    "# NLTK Movie Reviews"
   ],
   "cell_type": "markdown",
   "metadata": {}
  },
  {
   "source": [
    "## Importing libraries"
   ],
   "cell_type": "markdown",
   "metadata": {}
  },
  {
   "cell_type": "code",
   "execution_count": 41,
   "metadata": {},
   "outputs": [
    {
     "output_type": "stream",
     "name": "stderr",
     "text": [
      "[nltk_data] Downloading package movie_reviews to\n[nltk_data]     /home/vishwas/nltk_data...\n[nltk_data]   Package movie_reviews is already up-to-date!\n"
     ]
    }
   ],
   "source": [
    "import nltk\n",
    "nltk.download('movie_reviews')\n",
    "from nltk.corpus import movie_reviews\n"
   ]
  },
  {
   "source": [
    "## inspecting movie reviews"
   ],
   "cell_type": "markdown",
   "metadata": {}
  },
  {
   "cell_type": "code",
   "execution_count": 42,
   "metadata": {},
   "outputs": [
    {
     "output_type": "stream",
     "name": "stdout",
     "text": [
      "<class 'nltk.corpus.reader.plaintext.CategorizedPlaintextCorpusReader'> <CategorizedPlaintextCorpusReader in '/home/vishwas/nltk_data/corpora/movie_reviews'>\n"
     ]
    }
   ],
   "source": [
    "print(type(movie_reviews), movie_reviews)"
   ]
  },
  {
   "cell_type": "code",
   "execution_count": 43,
   "metadata": {},
   "outputs": [
    {
     "output_type": "stream",
     "name": "stdout",
     "text": [
      "Sentiment Polarity Dataset Version 2.0\nBo Pang and Lillian Lee\n\nhttp://www.cs.cornell.edu/people/pabo/movie-review-data/\n\nDistributed with NLTK with permission from the authors.\n\n=======\n\nIntroduction\n\nThis README v2.0 (June, 2004) for the v2.0 polarity dataset comes from\nthe URL http://www.cs.cornell.edu/people/pabo/movie-review-data .\n\n=======\n\nWhat's New -- June, 2004\n\nThis dataset represents an enhancement of the review corpus v1.0\ndescribed in README v1.1: it contains more reviews, and labels were\ncreated with an improved rating-extraction system.\n\n=======\n\nCitation Info \n\nThis data was first used in Bo Pang and Lillian Lee,\n``A Sentimental Education: Sentiment Analysis Using Subjectivity Summarization \nBased on Minimum Cuts'',  Proceedings of the ACL, 2004.\n\n@InProceedings{Pang+Lee:04a,\n  author =       {Bo Pang and Lillian Lee},\n  title =        {A Sentimental Education: Sentiment Analysis Using Subjectivity Summarization Based on Minimum Cuts},\n  booktitle =    \"Proceedings of the ACL\",\n  year =         2004\n}\n\n=======\n\nData Format Summary \n\n- review_polarity.tar.gz: contains this readme and  data used in\n  the experiments described in Pang/Lee ACL 2004.\n\n  Specifically:\n\n  Within the folder \"txt_sentoken\" are the 2000 processed down-cased\n  text files used in Pang/Lee ACL 2004; the names of the two\n  subdirectories in that folder, \"pos\" and \"neg\", indicate the true\n  classification (sentiment) of the component files according to our\n  automatic rating classifier (see section \"Rating Decision\" below).\n\n  File names consist of a cross-validation tag plus the name of the\n  original html file.  The ten folds used in the Pang/Lee ACL 2004 paper's\n  experiments were:\n\n     fold 1: files tagged cv000 through cv099, in numerical order\n     fold 2: files tagged cv100 through cv199, in numerical order     \n     ...\n     fold 10: files tagged cv900 through cv999, in numerical order\n\n  Hence, the file neg/cv114_19501.txt, for example, was labeled as\n  negative, served as a member of fold 2, and was extracted from the\n  file 19501.html in polarity_html.zip (see below).\n\n  Each line in each text file corresponds to a single sentence, as\n  determined by Adwait Ratnaparkhi's sentence boundary detector\n  MXTERMINATOR.\n \n  Preliminary steps were taken to remove rating information from the\n  text files, but only the rating information upon which the rating\n  decision was based is guaranteed to have been removed. Thus, if the\n  original review contains several instances of rating information,\n  potentially given in different forms, those not recognized as valid\n  ratings remain part of the review text.\n\t\n- polarity_html.zip: The original source files from which the\n  processed, labeled, and (randomly) selected data in\n  review_polarity.tar.gz was derived.\n\n  Specifically:  \n\n  This data consists of unprocessed, unlabeled html files from the\n  IMDb archive of the rec.arts.movies.reviews newsgroup,\n  http://reviews.imdb.com/Reviews. The files in review_polarity.tar.gz\n  represent a processed subset of these files. \n\n=======\n\nRating Decision (Appendix A)\n\nThis section describes how we determined whether a review was positive\nor negative.\n\nThe original html files do not have consistent formats -- a review may\nnot have the author's rating with it, and when it does, the rating can\nappear at different places in the file in different forms.  We only\nrecognize some of the more explicit ratings, which are extracted via a\nset of ad-hoc rules.  In essence, a file's classification is determined\nbased on the first rating we were able to identify.\n\n\n- In order to obtain more accurate rating decisions, the maximum\n\trating must be specified explicitly, both for numerical ratings\n\tand star ratings.  (\"8/10\", \"four out of five\", and \"OUT OF\n\t****: ***\" are examples of rating indications we recognize.)\n\n- With a five-star system (or compatible number systems):\n\tthree-and-a-half stars and up are considered positive, \n\ttwo stars and below are considered negative.\n- With a four-star system (or compatible number system):\n\tthree stars and up are considered positive, \n\tone-and-a-half stars and below are considered negative.  \n- With a letter grade system:\n\tB or above is considered positive,\n\tC- or below is considered negative.\n\nWe attempted to recognize half stars, but they are specified in an\nespecially free way, which makes them difficult to recognize.  Hence,\nwe may lose a half star very occasionally; but this only results in 2.5\nstars in five star system being categorized as negative, which is \nstill reasonable.\n\n\n\n"
     ]
    }
   ],
   "source": [
    "readme = movie_reviews.readme()\n",
    "print(readme)"
   ]
  },
  {
   "source": [
    "### So this data was scraped by Mr. Bo Pand and Lilliam Lee for their project. Great work!"
   ],
   "cell_type": "markdown",
   "metadata": {}
  },
  {
   "cell_type": "code",
   "execution_count": 44,
   "metadata": {},
   "outputs": [
    {
     "output_type": "stream",
     "name": "stdout",
     "text": [
      "['neg', 'pos']\n"
     ]
    }
   ],
   "source": [
    "category = []\n",
    "\n",
    "for i in movie_reviews.categories():\n",
    "    category.append(i)\n",
    "\n",
    "print(category)"
   ]
  },
  {
   "source": [
    "### so 2 categories are there, negative and positive"
   ],
   "cell_type": "markdown",
   "metadata": {}
  },
  {
   "source": [
    "## Total number of words in the corpus"
   ],
   "cell_type": "markdown",
   "metadata": {}
  },
  {
   "cell_type": "code",
   "execution_count": 45,
   "metadata": {},
   "outputs": [],
   "source": [
    "import string\n",
    "\n",
    "word_list = []\n",
    "for i in movie_reviews.words():\n",
    "    if i not in string.punctuation:\n",
    "        word_list.append(i.lower())"
   ]
  },
  {
   "cell_type": "code",
   "execution_count": 46,
   "metadata": {
    "tags": []
   },
   "outputs": [
    {
     "output_type": "stream",
     "name": "stdout",
     "text": [
      "1338788\n"
     ]
    }
   ],
   "source": [
    "print(len(word_list))"
   ]
  },
  {
   "source": [
    "### Wow! That's what we expect of a corpus!"
   ],
   "cell_type": "markdown",
   "metadata": {}
  },
  {
   "cell_type": "code",
   "execution_count": 47,
   "metadata": {},
   "outputs": [],
   "source": [
    "word_dict = {}\n",
    "\n",
    "for i in word_list:\n",
    "    if i in word_dict.keys():\n",
    "        word_dict[i] += 1\n",
    "    else:\n",
    "        word_dict[i] = 1"
   ]
  },
  {
   "cell_type": "code",
   "execution_count": 48,
   "metadata": {},
   "outputs": [
    {
     "output_type": "execute_result",
     "data": {
      "text/plain": [
       "39737"
      ]
     },
     "metadata": {},
     "execution_count": 48
    }
   ],
   "source": [
    "len(word_dict)"
   ]
  },
  {
   "source": [
    "### Let's inspect now!"
   ],
   "cell_type": "markdown",
   "metadata": {}
  },
  {
   "cell_type": "code",
   "execution_count": 49,
   "metadata": {},
   "outputs": [
    {
     "output_type": "stream",
     "name": "stdout",
     "text": [
      "39737\n"
     ]
    }
   ],
   "source": [
    "print(len(word_dict))"
   ]
  },
  {
   "source": [
    "## Frequency of words"
   ],
   "cell_type": "markdown",
   "metadata": {}
  },
  {
   "cell_type": "code",
   "execution_count": 50,
   "metadata": {
    "tags": [
     "outputPrepend"
    ]
   },
   "outputs": [
    {
     "output_type": "stream",
     "name": "stdout",
     "text": [
      " 'grudges': 2, 'pronunciation': 1, 'berendt': 1, 'horseflies': 1, 'beverages': 1, 'nepotist': 1, 'chablis': 2, 'castilian': 1, 'rupaul': 1, 'indictment': 1, '1934': 1, '65th': 1, 'springy': 1, 'boringly': 1, 'murkily': 1, 'gallo': 9, 'angelica': 1, 'hypnotized': 6, 'witzky': 1, 'localized': 1, 'spookiness': 1, 'zachary': 2, 'loaned': 1, 'coloring': 1, 'uninhabitable': 1, 'uncreative': 1, 'hershman': 3, 'greenfingers': 5, 'croupier': 1, 'edgefield': 2, 'picaresque': 1, 'accommodations': 1, 'violets': 1, 'limestone': 1, 'reprimands': 1, 'pinching': 1, 'sneezing': 1, 'pansies': 1, 'fives': 1, 'wildflowers': 1, 'primrose': 2, 'batinkoff': 1, 'keri': 2, 'rosen': 1, 'crushes': 1, 'katarina': 6, 'projectors': 2, 'doltish': 1, 'groundlings': 1, 'brassieres': 1, 'amended': 1, 'opined': 1, 'polluted': 1, 'falstaff': 1, 'filmcritic': 1, 'schrager': 1, 'whammy': 1, 'dubuque': 1, '2470': 1, 'moot': 1, 'delusion': 1, 'barcode': 1, 'dajani': 1, 'yawk': 1, 'adoring': 1, 'jetee': 1, 'wayward': 2, 'slots': 1, 'ambiguities': 2, 'idealistically': 1, 'dispensing': 1, 'tarkovskian': 1, 'humanism': 1, 'frickin': 1, 'tswsm': 9, 'shagadelic': 1, 'unfrozen': 1, 'frisch': 1, 'ejecting': 1, 'cambodian': 1, 'dilutes': 2, 'entrace': 1, 'slicked': 1, 'saunders': 3, 'comediennes': 2, 'edina': 1, 'monsoon': 1, 'chucklesome': 1, 'saunder': 1, 'hobbling': 2, 'telly': 1, 'sheldon': 4, 'wilkes': 2, 'fruity': 1, 'hander': 1, 'agonisingly': 1, 'seldon': 1, 'wracking': 1, 'snooping': 1, 'ankles': 1, 'gorey': 1, '4960': 1, 'unobtrusive': 2, 'albany': 1, 'crowning': 1, 'deterent': 1, 'cronfronting': 1, 'jealously': 1, 'daper': 1, 'stong': 1, 'freewill': 1, 'southerners': 1, 'gall': 1, 'boastfully': 1, 'signifcance': 1, 'signficance': 1, 'simplying': 1, 'tyrany': 1, 'exuberhant': 1, 'polarization': 1, 'hypernaturally': 1, 'closeups': 1, 'ravished': 1, 'wracked': 1, 'mournfulness': 1, 'adjustment': 1, 'terse': 1, 'obtrusive': 1, 'tragicomic': 1, 'longish': 1, 'heslop': 2, 'porpoise': 1, 'abba': 2, 'cliquey': 1, 'battler': 1, 'crowing': 1, 'rhonda': 1, 'tormenters': 1, 'pippa': 1, 'grandison': 1, 'jarrett': 1, 'bumblingly': 1, 'proportionately': 1, 'caraboo': 11, 'gentlewoman': 2, 'worrall': 6, 'houseguest': 1, 'worralls': 2, 'gutch': 3, 'vagrants': 1, 'beggars': 1, 'hazing': 1, 'trendiness': 1, 'regent': 1, 'pantomime': 1, 'frixos': 1, '1793': 1, 'visualizing': 1, 'regicide': 1, 'maidservant': 1, 'meudon': 1, 'patriots': 1, 'blueblood': 1, 'philipe': 1, 'massacres': 1, '1792': 1, 'procession': 1, 'rioters': 1, 'sheltering': 1, 'robespierre': 2, 'equalizers': 1, 'intrusions': 1, 'inaction': 1, 'disconnects': 1, 'foolery': 1, 'staunch': 1, 'vastness': 1, 'groundlessness': 1, 'insubstantial': 3, 'hones': 1, 'unavailable': 1, 'messinger': 3, 'appealingly': 1, 'chirpy': 1, 'silberling': 2, 'seale': 3, 'predetermined': 1, 'tautly': 2, 'alum': 2, 'preflight': 1, 'jitters': 1, 'ruckus': 1, 'interrogate': 1, 'unboarded': 1, 'setpieces': 1, 'boosts': 1, 'goldbergesque': 1, 'underseen': 1, 'arcane': 1, 'supererogatory': 1, 'divorcee': 1, 'trepidations': 1, 'neigbors': 1, 'anthesis': 1, 'relatibility': 1, 'likeness': 1, 'rewatchable': 1, 'strasberg': 1, 'delaware': 1, 'leibowitz': 1, 'keenan': 1, 'swanbeck': 1, 'retrieving': 1, 'rectified': 1, 'hobbs': 2, 'coins': 1, 'rancher': 1, 'taxed': 1, 'traumatizes': 1, 'renewal': 2, 'dissipate': 1, 'widens': 1, 'hesitates': 1, 'roughness': 1, 'paralleled': 1, 'bookshop': 1, 'limousines': 1, 'carpets': 1, 'apricots': 1, 'refrigerator': 3, 'iniquity': 1, 'bonneville': 1, 'treetop': 1, 'enhancement': 1, 'terrarium': 1, 'zookeepers': 1, 'experimenters': 1, 'warping': 1, 'existentialist': 1, 'conformist': 1, 'dictatorships': 1, 'kant': 1, 'existentialists': 1, 'ghettoized': 1, 'shrugging': 1, 'roald': 2, 'wormwood': 1, 'zinnia': 1, 'wormwoods': 1, 'crunchem': 1, 'trunchbull': 5, 'cock': 1, '_moby': 1, 'dick_': 1, 'adhesive': 1, 'swicord': 1, 'tizard': 1, 'mcglory': 2, 'ballinagra': 1, 'roadblocks': 1, 'pescara': 1, 'bohemian': 1, 'icelandic': 1, 'soled': 1, 'espadrilles': 1, 'southport': 1, 'apprehensive': 1, 'yielding': 1, 'crossan': 1, 'anabasis': 1, 'xenophon': 1, 'persia': 2, 'coney': 2, 'cleon': 2, 'dorsey': 1, 'gramercy': 1, 'cyrus': 2, 'rogues': 1, 'swann': 2, 'upheld': 1, 'valkenburgh': 1, 'vorzon': 1, 'statesman': 1, 'nanni': 2, 'moretti': 3, 'bereavement': 1, 'reprimand': 1, 'morante': 1, 'trinca': 1, 'respectfully': 1, 'conciliatory': 1, 'waterworks': 1, 'bargaining': 1, 'enfield': 1, 'butte': 2, 'repaint': 1, 'barntill': 1, 'wich': 1, 'hijacker': 1, 'striker': 1, 'kareem': 1, 'abdul': 1, 'jabbar': 1, 'ashmore': 1, 'sterotypically': 1, 'stucker': 1, 'courtland': 1, 'genevi': 3, 'salle': 1, 'reyes': 1, 'portinari': 1, 'impactful': 1, 'richman': 1, 'solidifying': 1, 'buttercup': 1, 'branched': 1, 'uptown': 1, 'correspondant': 1, 'vulture': 1, 'skeksis': 2, 'gelfling': 2, 'shard': 1, 'reinserted': 1, 'kira': 2, 'aughra': 1, 'tumbleweed': 1, 'fizzgig': 1, 'puppeteering': 1, 'landwalker': 1, 'baddeley': 1, 'irregulars': 1, 'executing': 1, 'ihmoetep': 3, 'sandstorm': 1, 'encino': 2, 'laserman': 9, 'ultraman': 1, 'spiderman': 1, 'auxiliary': 1, 'herbal': 1, 'matzo': 1, 'soy': 1, 'cuisine': 1, 'copeland': 1, 'maryann': 1, 'urbano': 1, 'meditate': 2, 'leung': 1, 'hustles': 1, 'ovens': 2, 'lasers': 1, 'forethought': 1, 'senators': 1, 'pant': 1, 'wetter': 1, 'dismays': 1, 'brigette': 2, 'blackburn': 1, 'ghallager': 2, 'terrorfying': 1, 'spaceflight': 1, 'haise': 1, 'swigert': 1, 'measles': 1, 'worrisome': 2, 'footages': 1, '_daylight_': 5, 'shrugged': 1, '_dragon': 1, 'story_': 1, '_dragonheart_': 1, 'latura': 1, '_cliffhanger_': 3, '_cliffhanger': 1, 'ii_': 1, 'trundle': 1, '_boom_': 1, 'batterings': 1, '34': 1, 'meadows': 1, 'cyberspace': 1, '135': 1, 'irrelevent': 1, 'placating': 1, 'prophesied': 2, 'servicewear': 1, 'effectual': 1, 'thw': 1, 'smirkiest': 1, 'cogent': 1, 'modernist': 1, 'iniquitous': 1, 'clubish': 1, 'yech': 1, 'loath': 2, 'ciello': 1, 'juliani': 1, 'unintrusive': 1, 'ulcer': 1, '167': 1, 'ia': 1, 'raspiness': 1, 'itty': 1, 'bitty': 1, 'gauthier': 1, 'wiez': 2, 'renna': 1, 'tiffani': 1, 'thiessen': 1, 'iraqi': 2, 'humvee': 1, 'bart': 3, 'bop': 1, 'barlow': 9, 'elgin': 4, 'pvt': 2, 'vig': 5, 'ceasefire': 1, 'captives': 1, 'bullion': 1, 'adriana': 1, 'iraq': 1, 'interrogator': 1, 'mutes': 1, 'persian': 1, 'revelry': 1, 'protestor': 1, 'hayseed': 1, 'antiheroes': 1, 'revert': 1, 'kuwait': 1, 'primer': 1, 'globally': 1, 'condon': 2, 'wwi': 1, '67': 1, 'disracting': 1, 'clayon': 1, 'cuckor': 2, 'mckellen': 3, 'disapproving': 1, 'reclusion': 1, 'structuring': 1, 'scrutinization': 1, 'resistant': 1, 'receptive': 1, 'falsetto': 1, 'enzyme': 1, 'morquio': 1, 'obsequious': 1, 'revisions': 1, 'swamped': 1, '1590': 1, 'noblewoman': 1, 'fennyman': 1, 'forementioned': 1, 'railings': 1, 'aft': 1, 'realisticaly': 1, 'brining': 1, 'dicaprip': 1, 'luxuries': 1, 'undertaken': 1, 'marveled': 1, 'smashingly': 1, 'unpromisingly': 1, 'soho': 1, 'catty': 1, 'captivatingly': 1, 'blusterous': 1, 'stealthy': 1, 'vivaldi': 1, 'beloveds': 1, 'aggrieved': 1, 'smirkingly': 1, 'apologetic': 1, 'apoplectic': 1, 'unfeasible': 1, 'exploratory': 1, 'profundities': 1, 'contractually': 1, 'resubmit': 1, 'scaled': 1, 'withdrew': 1, 'seeping': 1, 'chiding': 1, 'excitable': 2, 'chatterbox': 1, 'transposed': 1, 'evasively': 1, 'occupational': 1, 'residing': 1, 'acquainted': 1, 'salad': 1, 'scattering': 1, 'scrabble': 1, 'renshaw': 1, 'alexandria': 1, 'fullscreen': 1, 'fosse': 1, 'kansas': 1, 'offshoots': 1, 'yitzak': 1, 'niagara': 8, 'gosse': 1, 'beguilingly': 1, 'khanijian': 1, 'unconnectedness': 1, 'rigueur': 1, 'multiplots': 1, 'auditor': 4, 'palliative': 1, 'penuries': 1, 'hayley': 3, 'wrack': 1, 'favorties': 1, 'pinnochio': 1, 'barage': 1, 'lohan': 2, 'kunz': 1, 'vineyard': 1, 'qe2': 1, 'dilemnas': 1, 'reminscing': 1, 'cutedom': 2, 'plagerism': 1, 'imploded': 1, '_mafia_': 1, 'basque': 1, 'witzy': 1, 'lineman': 1, 'illena': 1, 'visualize': 1, 'dreamt': 1, 'liza': 1, 'spinetinglingly': 1, 'efects': 1, 'assitance': 1, 'beggining': 1, 'shoveller': 1, 'enterataining': 1, 'aquire': 1, 'garafalo': 2, 'splein': 2, 'disastorous': 1, 'reuben': 3, 'garfalo': 1, 'enteratining': 1, 'screem': 1, 'proceeders': 1, 'bannister': 1, 'dobson': 4, 'contention': 1, 'jeffery': 1, 'schnook': 1, 'streamline': 1, 'reinvention': 1, 'clung': 1, 'yuppy': 1, 'flaxen': 1, 'tenaciously': 1, 'manicurist': 1, 'garber': 1, 'cheerfulness': 1, 'luketic': 1, 'joyously': 1, 'incandescent': 1, 'scented': 1, 'mirkin': 1, 'aprhodite': 1, 'weinberger': 1, 'sagebrush': 2, 'mooney': 2, 'teenth': 1, 'finfer': 1, 'lightness': 1, 'newland': 1, 'welland': 1, 'countess': 3, 'olenska': 3, 'lotsa': 1, 'nuttiness': 1, 'venna': 1, 'harassing': 1, 'whippersnappers': 1, 'buckle': 1, 'shebang': 1, 'jot': 1, 'lotta': 1, 'exaggerating': 1, 'linden': 1, 'deaden': 1, 'skinning': 1, 'corral': 1, 'astin': 2, 'nevers': 1, 'tubercular': 1, 'rosselini': 1, 'ida': 1, 'wissner': 1, 'vips': 1, 'il': 1, 'postino': 2, 'landworld': 1, 'barracades': 1, 'shanghaied': 1, 'hilfiger': 1, 'potshots': 1, 'jacobim': 1, 'mugatu': 4, 'brainwash': 1, 'slumping': 1, 'ballstein': 1, 'dowdy': 1, 'highbrow': 1, 'pickings': 1, 'pimpernel': 1, 'fops': 1, 'wigged': 1, 'ribboned': 1, 'ffing': 6, 'pew': 1, 'royalists': 1, 'fingernail': 11, 'royalist': 1, 'duc': 2, 'pommfrit': 2, 'camembert': 7, 'bidet': 3, 'coachmen': 1, 'calais': 2, 'dany': 1, 'diguise': 1, 'dubarry': 1, 'duchesse': 1, 'plume': 1, 'tante': 1, 'chateau': 1, 'neuve': 1, 'fop': 1, 'aristo': 1, 'courthouse': 1, 'waver': 1, 'nabs': 1, 'unpredictably': 1, 'patially': 1, 'needful': 1, '144': 1, 'jitterish': 1, 'tireless': 1, 'atone': 1, 'baptizes': 1, 'financing': 1, 'tingwell': 1, 'reinvigorating': 1, 'agnostic': 1, 'litters': 1, 'recurs': 1, 'clashed': 1, 'pall': 1, 'candlelit': 1, 'indiscretion': 1, 'bravo': 1, 'lan': 1, 'hybridization': 1, 'refrains': 2, 'ultraconservative': 1, 'atheists': 1, 'extremists': 1, 'dormitory': 1, 'fizzled': 1, 'alar': 1, 'kivilo': 1, 'lhassa': 1, 'diplomatic': 1, 'boxoffice': 1, 'climber': 1, 'mandala': 3, 'oracle': 1, 'thubten': 1, 'norbu': 1, 'clapping': 1, 'fittest': 1, 'tamahori': 3, 'cautiously': 1, 'stitching': 1, 'vllainous': 1, 'sloth': 1, 'grotesquely': 1, 'obese': 1, 'tributes': 1, 'beeing': 1, 'curtiz': 1, 'vichy': 1, 'thrive': 1, 'renault': 4, 'henreid': 2, 'gestapo': 1, 'veidt': 1, 'maltese': 1, 'tiranny': 1, 'competiton': 1, 'undoubtful': 1, 'analyse': 1, 'speculations': 1, 'nitpickers': 1, 'beliavable': 1, 'salieri': 3, 'hulce': 2, 'magnificient': 1, 'berridge': 1, 'someodd': 1, 'accumulate': 1, 'bitchin': 1, 'discarged': 1, 'potatohead': 1, 'remembrance': 1, 'videogames': 1, 'brs': 1, 'untraditional': 1, 'platonic': 1, 'ailment': 1, 'philistine': 1, 'rejoiced': 1, 'sprites': 2, 'shafts': 1, 'humpback': 1, 'icebergs': 1, 'oceanscape': 1, 'calf': 2, 'scuffle': 1, 'googly': 1, 'intertwines': 1, 'hustled': 1, 'schoolmarm': 1, 'concerto': 1, 'andersen': 2, 'pipelines': 1, 'hippos': 1, 'jerkers': 1, 'wintery': 1, 'enlargement': 1, 'bumblebee': 1, 'horsemen': 1, 'valkyries': 1, 'salvador': 1, 'dali': 1, 'previewed': 1, 'ethnocentric': 1, 'miracurously': 1, 'propoganda': 1, 'shaven': 1, 'swastica': 1, 'emrboidered': 1, 'devlish': 1, 'carjackers': 1, 'rehabilitated': 1, 'monger': 1, 'kampf': 1, 'wisened': 1, 'lolipop': 1, 'elloquently': 1, 'eliott': 1, 'rightist': 1, 'unparalled': 1, 'unnerrving': 1, 'revoltingly': 1, 'maron': 1, 'pencilled': 1, 'trounced': 1, 'suplee': 1, 'badmouth': 1, 'enwrapped': 1, 'realy': 1, 'gusty': 1, 'dehaven': 1, 'backdown': 1, 'gruelling': 1, 'endeavours': 1, 'urgayle': 1, 'screamer': 1, 'rigour': 1, 'surname': 1, 'preachings': 1, 'tenacity': 1, 'trickster': 1, 'guises': 1, 'givya': 1, 'dabbles': 1, 'oates': 1, 'accursed': 1, 'bly': 1, 'discouragingly': 1, 'follies': 1, 'pekurny': 1, 'usda': 1, 'tarts': 1, 'trampled': 1, 'pollsters': 1, 'alpine': 1, 'feasting': 1, 'scuba': 1, 'stealth': 1, 'pluck': 1, 'leiter': 2, 'zodiac': 1, 'horoscopes': 1, 'browsed': 1, 'lts': 2, 'nephews': 1, 'nieces': 1, 'malay': 1, 'rugby': 1, 'intending': 1, 'overpass': 1, 'savoury': 1, 'chappy': 1, '_william_shakespeare': 1, 's_romeo_': 1, '_juliet_': 1, 'taymor': 4, '_the_lion_king': 1, '_the_broadway_musical_': 1, '_titus_andronicus_': 1, 'transplanted': 1, 'temporal': 1, 'colosseum': 1, 'tamora': 4, 'goths': 1, 'suviving': 1, 'resonated': 1, 'viperous': 1, 'lennix': 2, '_titus_': 1, 'fearlessly': 1, 'geffen': 1, 'mousehunt': 1, 'beiderman': 5, 'discoverers': 1, 'avert': 1, 'peacekeeper': 1, 'eternally': 1, 'reinterpretation': 1, 'wender': 1, 'banisters': 1, 'alleviated': 1, '____________________________________________': 1, 'kendrick': 1, 'jimkendrick': 2, '||': 1, 'pusateri': 1, 'serb': 1, 'farmboy': 1, 'nascar': 1, 'corsucant': 1, 'palaces': 1, 'skylines': 1, 'watto': 3, 'paunchy': 1, 'flutter': 1, 'hummingbird': 1, 'foots': 1, 'horseplay': 1, 'eavesdropping': 1, 'overkilling': 1, 'saracastic': 1, 'slandering': 1, 'pubbing': 1, 'wanking': 1, 'jip': 2, 'simm': 1, 'koop': 1, 'parkes': 1, 'nicola': 1, 'mcjob': 1, 'weekends': 1, 'lulu': 1, 'pilkington': 1, 'moff': 1, 'kerrigan': 4, 'hardback': 1, 'filipino': 1, 'cusp': 1, 'alexi': 1, 'malle': 1, 'raindrops': 2, 'fatter': 1, 'latches': 1, 'surreptitiously': 1, 'fraternizing': 1, 'cultish': 1, 'stricter': 2, 'combed': 1, 'ignoramus': 1, 'scientologists': 1, 'amphetamine': 1, 'bigshot': 1, 'affirmations': 1, 'feeder': 1, 'jumpers': 1, 'cahiers': 1, 'wealthiest': 1, 'lawsuits': 1, 'peeking': 1, 'dong': 1, 'paup': 1, 'trodden': 1, 'affirm': 1, 'guelph': 1, 'hoser': 1, 'officious': 1, 'lomper': 1, 'huison': 1, 'graceless': 1, 'speer': 1, 'sextet': 1, 'choreograph': 1, 'tastelessness': 1, 'battlestar': 1, 'galactica': 1, 'revised': 1, 'meddle': 1, '_experience_': 1, 'collated': 1, 'webpages': 1, 'islandnet': 1, 'corona': 1, 'sw4': 1, 'cs': 1, 'latrobe': 1, 'edu': 1, 'koukoula': 1, 'unnoticeably': 1, 'yavin': 1, 'edifice': 1, 'carvings': 1, 'etchings': 1, 'glitches': 1, '_fantastic_': 1, 'brightened': 1, 'remixed': 1, 'reprocessed': 1, 'maven': 1, 'burtt': 1, '_so': 1, 'much_': 1, 'letterboxing': 1, 'enthrall': 1, 'pickpocket': 1, 'schmoozes': 1, 'moonshine': 1, '_shaft_': 8, 'tidyman': 1, 'y2g': 1, '_shaft': 1, 's_big_score': 1, '_shaft_in_africa_': 1, 'dominican': 1, 'palmieri': 1, 'eyewitness': 1, '_american_psycho_': 1, 'busta': 1, 'rasaan': 1, 'salerno': 1, 'sprinkles': 1, 'bresson': 11, 'lancelot': 11, 'malory': 1, 'morte': 1, 'darthur': 1, 'enshrining': 1, 'dethrones': 1, 'merlin': 1, 'smolder': 1, 'condominas': 1, 'mordred': 1, 'gawain': 1, 'balsan': 1, 'drumbeat': 1, 'bagpipes': 1, 'clanking': 1, 'creaking': 1, 'neighing': 1, 'nonprofessional': 1, 'jousting': 2, 'bagpipe': 1, 'fearsomely': 1, 'adepts': 1, 'fo': 1, 'sppedboat': 1, 'danging': 1, 'copter': 1, 'greyer': 1, 'vigau': 1, 'caretakers': 1, 'thenardiers': 2, 'smilla': 1, 'jorgen': 1, 'persson': 1, 'unglamorous': 1, 'cerebrally': 1, 'eponine': 1, 'underbids': 1, 'giggs': 1, 'guilfoyle': 1, '10000': 1, 'audiotapes': 1, 'parcel': 1, 'uta': 1, 'briesewitz': 1, 'epos': 1, 'lovestory': 1, 'vestern': 1, 'calvinistic': 1, 'clocktower': 1, 'skarsgaard': 1, 'oilrig': 2, 'funerals': 1, 'kirkeby': 1, 'procol': 1, 'harum': 1, 'matin': 1, 'lunes': 1, 'fiel': 1, 'katrin': 1, 'cartlidge': 1, 'prix': 1, 'ultimo': 1, 'romanov': 2, 'landsbury': 1, 'anya': 4, 'vlad': 1, 'bartok': 1, 'showpieces': 1, 'unlistenable': 1, 'dryburgh': 1, '777': 1, 'heavies': 1, 'booked': 1, 'bohemia': 1, 'derbies': 1, 'barreled': 1, 'accentuating': 1, 'amplifying': 1, 'twotg': 1, 'savviness': 1, 'unabashed': 1, 'longbaugh': 3, 'planners': 1, 'chidduck': 4, 'alleyways': 1, 'forebodings': 1, 'shrills': 1, 'desperados': 1, 'cremet': 2, 'sunbathes': 1, 'vernier': 1, 'nenette': 1, 'boni': 1, 'woolf': 1, 'andree': 1, 'tainsy': 1, 'putrefaction': 1, 'bagged': 1, 'cowrote': 1, 'bernheim': 1, 'hiberli': 1, 'arousal': 1, 'polanski': 1, 'rombi': 1, 'ullmann': 1, 'harkened': 1, 'ghibli': 2, 'totoro': 1, 'understandingly': 1, 'harmlessly': 1, 'broom': 1, 'seaport': 2, 'hugeness': 1, 'pacifier': 1, 'complimented': 1, 'deliveree': 1, 'bewonderment': 1, 'jiji': 3, 'contradicted': 1, 'monoko': 1, 'hime': 1, 'alferd': 1, 'packer': 4, 'trappers': 1, 'ute': 2, 'snowmen': 1, 'mchugh': 2, 'dissenting': 1, 'shpadoinkle': 1, 'braniff': 1, 'trapper': 1, 'leit': 1, 'inclusions': 1, 'dian': 1, 'bachar': 1, 'kemler': 1, 'drunker': 2, 'lemmy': 1, 'motorhead': 1, 'aix': 1, 'glades': 1, 'bundles': 1, 'toupee': 1, 'snoopy': 1, 'perennially': 1, 'isolationist': 1, 'reemerging': 1, 'comprise': 1, 'solicit': 1, 'gushing': 1, 'testimonials': 1, 'geopolitics': 1, 'appeasement': 1, 'cetera': 1, 'outperform': 1, 'expletitive': 1, 'gangstar': 2, 'traffiking': 1, 'lashings': 1, 'middlemen': 1, 'bristling': 1, 'overracting': 1, 'aquits': 1, 'scorese': 1, 'moroder': 1, 'synthesier': 1, 'glitters': 1, 'thirdly': 1, 'incorrigible': 1, 'injure': 1, 'uncorking': 1, 'volleyball': 1, 'topical': 1, 'mothering': 1, 'sausalito': 1, 'quantities': 1, 'refrigerates': 1, 'lettuce': 1, 'wilted': 1, 'sherbet': 2, 'glaze': 1, 'freezer': 1, 'sequitur': 1, 'yosarian': 1, 'softness': 1, 'demeaned': 1, 'mccalister': 1, 'ideologically': 1, 'entitlement': 1, 'usurp': 1, 'winsomely': 1, 'tenets': 1, 'viscous': 1, 'straddle': 1, 'infuriatingly': 1, 'compress': 1, 'schoonmaker': 1, 'radios': 1, 'herded': 1, 'vestments': 1, 'grouped': 1, 'bawling': 1, 'nolstalgic': 1, 'engross': 1, 'archbishop': 4, 'venable': 1, 'prepostrous': 1, 'uncompromisingly': 1, 'pedal': 1, 'brake': 1, 'parolees': 1, 'adopter': 1, 'interfered': 1, 'jetliners': 1, 'voltage': 1, 'conglomerate': 2, 'denuto': 2, 'tiriel': 1, 'mora': 1, 'sitch': 2, 'tenny': 1, 'simcoe': 1, 'investments': 1, 'kerrigans': 4, 'simpletons': 1, 'santo': 1, 'cilauro': 1, 'gleisner': 1, 'bandied': 1, 'outcomes': 1, 'constitution': 1, 'pleasent': 1, 'conners': 1, 'punxsutawney': 1, 'totatly': 1, 'unoffensive': 1, 'senitmental': 1, 'smary': 1, 'phils': 1, 'ryanson': 1, 'neurologist': 1, 'donne': 1, 'inclement': 1, 'dussander': 7, 'fearfully': 1, 'denker': 1, 'pseudonymous': 1, 'doodles': 1, 'swastikas': 1, 'ruses': 1, 'hoodwink': 1, 'schoolish': 1, 'overdirected': 1, 'blackening': 1, 'laudible': 1, 'hayworth': 1, 'implementation': 1, 'mccourt': 3, 'memoir': 2, 'sentimentalized': 1, 'homely': 1, 'irishfolk': 1, 'breen': 4, 'malachy': 3, 'instructors': 1, 'malnutrition': 1, 'gloomily': 1, 'supplementing': 1, 'hambling': 1, 'bladders': 1, 'famished': 1, 'trenches': 1, 'dancefloor': 1, 'des': 3, 'eigeman': 1, 'aboriginals': 2, 'enforcing': 1, 'spearing': 1, 'aboriginal': 3, 'dingo': 1, 'churchman': 1, 'milliken': 1, 'aborginal': 1, 'pedersen': 1, 'uluru': 1, 'jedda': 1, 'blacksmith': 1, 'nourishing': 1, 'judgemental': 1, 'performences': 1, 'performence': 2, 'podrace': 1, 'amadala': 3, 'c3': 1, 'gaultier': 1, 'embroidery': 1, 'jedis': 1, 'zestful': 1, 'circled': 1, 'beliner': 1, 'suger': 1, 'portrtayal': 1, 'characted': 1, 'duong': 1, 'invlove': 1, 'steaminess': 1, 'leboswki': 1, 'sgoingonaroundhere': 1, 'slothful': 1, 'assailants': 1, 'dudeness': 1, 'trademarked': 1, 'roseanne': 1, 'bvoice': 1, 'eaddress': 1, 'estuff': 1, 'rigormortis': 3, 'motivate': 2, 'martyrs': 1, 'manifesto': 1, 'meri': 1, 'kaczkowski': 1, 'robb': 1, 'sovereign': 1, 'sanctity': 1, 'url': 1, 'timelines': 1, 'decreased': 1, 'incorporation': 1, 'fossils': 1, 'nooks': 1, 'crannies': 1, 'bangers': 1, 'migration': 1, 'undie': 1, 'douchebag': 1, 'nacho': 1, 'fiesta': 1, 'glenross': 1, 'highschool': 1, 'ged': 1, 'felonies': 1, 'pry': 1, 'orsen': 1, 'filer': 1, 'appearence': 1, 'inventie': 1, 'unwinable': 1, 'proclamations': 1, 'prosecuting': 1, '54th': 1, '1862': 1, 'eriksson': 1, 'grazes': 1, 'enlistment': 1, 'deserting': 2, 'searles': 3, 'rattle': 1, 'unquestioned': 1, 'grittiest': 1, '170': 1, 'discharge': 1, 'countrysides': 1, 'stafff': 1, 'downgrade': 1, 'overflying': 1, 'paneled': 1, 'vainly': 1, 'snoots': 1, 'obstructions': 1, 'obscuring': 1, 'tangerine': 1, 'timbre': 1, 'powaqqatsi': 1, 'keyboardist': 1, 'capitalized': 1}\n"
     ]
    }
   ],
   "source": [
    "print(word_dict)"
   ]
  },
  {
   "cell_type": "code",
   "execution_count": 51,
   "metadata": {},
   "outputs": [
    {
     "output_type": "execute_result",
     "data": {
      "text/plain": [
       "FreqDist({'the': 76529, 'a': 38106, 'and': 35576, 'of': 34123, 'to': 31937, 'is': 25195, 'in': 21822, 's': 18513, 'it': 16107, 'that': 15924, ...})"
      ]
     },
     "metadata": {},
     "execution_count": 51
    }
   ],
   "source": [
    "all_words = nltk.FreqDist(word_list)\n",
    "all_words"
   ]
  },
  {
   "cell_type": "code",
   "execution_count": 52,
   "metadata": {},
   "outputs": [
    {
     "output_type": "execute_result",
     "data": {
      "text/plain": [
       "[('the', 76529),\n",
       " ('a', 38106),\n",
       " ('and', 35576),\n",
       " ('of', 34123),\n",
       " ('to', 31937),\n",
       " ('is', 25195),\n",
       " ('in', 21822),\n",
       " ('s', 18513),\n",
       " ('it', 16107),\n",
       " ('that', 15924),\n",
       " ('as', 11378),\n",
       " ('with', 10792),\n",
       " ('for', 9961),\n",
       " ('his', 9587),\n",
       " ('this', 9578),\n",
       " ('film', 9517),\n",
       " ('i', 8889),\n",
       " ('he', 8864),\n",
       " ('but', 8634),\n",
       " ('on', 7385)]"
      ]
     },
     "metadata": {},
     "execution_count": 52
    }
   ],
   "source": [
    "all_words.most_common(20)"
   ]
  },
  {
   "source": [
    "### We notice that many of the most common words are stop words."
   ],
   "cell_type": "markdown",
   "metadata": {}
  },
  {
   "cell_type": "code",
   "execution_count": 53,
   "metadata": {},
   "outputs": [
    {
     "output_type": "stream",
     "name": "stdout",
     "text": [
      "The frequency of the word 'boring' is 270\n"
     ]
    }
   ],
   "source": [
    "print(f\"The frequency of the word 'boring' is {word_dict['boring']}\")\n",
    "\n",
    "boring_frequency = word_dict['boring']"
   ]
  },
  {
   "source": [
    "### Let's crosscheck with nlkt frequency distribution "
   ],
   "cell_type": "markdown",
   "metadata": {}
  },
  {
   "cell_type": "code",
   "execution_count": 54,
   "metadata": {},
   "outputs": [],
   "source": [
    "assert boring_frequency == all_words['boring']"
   ]
  },
  {
   "source": [
    "### No errors, that means everything is correct!"
   ],
   "cell_type": "markdown",
   "metadata": {}
  },
  {
   "source": [
    "## Let's convert words to features!"
   ],
   "cell_type": "markdown",
   "metadata": {}
  },
  {
   "cell_type": "code",
   "execution_count": 55,
   "metadata": {},
   "outputs": [
    {
     "output_type": "execute_result",
     "data": {
      "text/plain": [
       "1000"
      ]
     },
     "metadata": {},
     "execution_count": 55
    }
   ],
   "source": [
    "len(movie_reviews.fileids('neg'))"
   ]
  },
  {
   "cell_type": "code",
   "execution_count": 56,
   "metadata": {},
   "outputs": [
    {
     "output_type": "execute_result",
     "data": {
      "text/plain": [
       "['\"', 'desperate', 'measures', '\"', 'is', 'a', ...]"
      ]
     },
     "metadata": {},
     "execution_count": 56
    }
   ],
   "source": [
    "movie_reviews.words('neg/cv162_10977.txt')"
   ]
  },
  {
   "source": [
    "### creating a feature vector"
   ],
   "cell_type": "markdown",
   "metadata": {}
  },
  {
   "cell_type": "code",
   "execution_count": 57,
   "metadata": {
    "tags": []
   },
   "outputs": [],
   "source": [
    "common_words = all_words.most_common(3000)\n",
    "\n",
    "feature_vector = []\n",
    "for i,j in common_words:\n",
    "    feature_vector.append(i)\n",
    "\n",
    "# here we took 3000 most common words into feature vector    "
   ]
  },
  {
   "cell_type": "code",
   "execution_count": 58,
   "metadata": {},
   "outputs": [],
   "source": [
    "feature = {}\n",
    "review = movie_reviews.words('neg/cv162_10977.txt')\n",
    "\n",
    "for i in range(len(feature_vector)):\n",
    "    feature[feature_vector[i]] = feature_vector[i] in review"
   ]
  },
  {
   "cell_type": "code",
   "execution_count": 72,
   "metadata": {},
   "outputs": [
    {
     "output_type": "stream",
     "name": "stdout",
     "text": [
      "2000\n"
     ]
    }
   ],
   "source": [
    "documents = [(movie_reviews.words(fileid), category)\n",
    "            for fileid in movie_reviews.fileids()\n",
    "            for category in movie_reviews.categories(fileid)]\n",
    "\n",
    "import random\n",
    "random.seed(2020)\n",
    "random.shuffle(documents)\n",
    "\n",
    "print(len(documents))"
   ]
  },
  {
   "source": [
    "### Let's create a function which will tell us if the words in a document are there in the feature vector or not!"
   ],
   "cell_type": "markdown",
   "metadata": {}
  },
  {
   "cell_type": "code",
   "execution_count": 73,
   "metadata": {},
   "outputs": [],
   "source": [
    "def find_features(document):\n",
    "    words = set(document)\n",
    "    features = {}\n",
    "    for i in feature_vector:\n",
    "        features[i] = (i in words)\n",
    "    \n",
    "    return features"
   ]
  },
  {
   "cell_type": "code",
   "execution_count": 74,
   "metadata": {
    "tags": [
     "outputPrepend"
    ]
   },
   "outputs": [
    {
     "output_type": "stream",
     "name": "stdout",
     "text": [
      "': False, 'directly': False, 'helen': False, 'began': False, 'lord': False, 'folks': False, 'mediocre': False, 'bar': False, 'surface': False, 'super': False, 'failure': False, '6': False, 'acted': False, 'quiet': False, 'laughable': False, 'sheer': False, 'security': False, 'emotionally': False, 'season': False, 'stuart': False, 'jail': False, 'deals': False, 'cheesy': False, 'court': False, 'beach': False, 'austin': False, 'model': False, 'outstanding': False, 'substance': False, 'nudity': False, 'slapstick': False, 'joan': False, 'reveal': False, 'placed': False, 'check': False, 'beast': False, 'hurt': False, 'bloody': False, 'acts': False, 'fame': False, 'meeting': False, 'nuclear': False, '1996': False, 'strength': False, 'center': False, 'funniest': False, 'standing': False, 'damon': False, 'clich': False, 'position': False, 'desire': False, 'driven': False, 'seat': False, 'stock': False, 'wondering': False, 'realizes': True, 'dealing': False, 'taste': False, 'routine': True, 'comparison': False, 'cinematographer': False, 'seconds': False, 'singing': False, 'gangster': False, 'responsible': False, 'football': False, 'remarkable': False, 'hunting': False, 'adams': False, 'fly': False, 'suspects': False, 'treat': False, 'hopes': False, 'heaven': False, 'myers': False, 'struggle': False, 'costumes': False, 'beat': False, 'happening': False, 'skills': False, 'ugly': False, 'figures': False, 'thoroughly': False, 'ill': False, 'surprises': False, 'player': True, 'rival': False, 'guard': False, 'anthony': False, 'strike': False, 'community': False, 'streets': False, 'hopkins': False, 'ended': False, 'originally': False, 'sarah': False, 'creative': False, 'characterization': False, 'thankfully': False, 'growing': False, 'sharp': False, 'williamson': False, 'eccentric': False, 'explained': False, 'hey': False, 'claire': False, 'steal': False, 'inevitable': False, 'joel': False, 'core': False, 'weren': False, 'sorry': True, 'built': False, 'anne': False, 'breaking': False, 'villains': False, 'critic': False, 'lets': False, 'visit': False, 'followed': False, 'serial': False, 'value': False, 'missed': False, 'oliver': False, 'hollow': False, 'sea': False, 'animal': False, 'freeman': False, 'animals': False, 'crystal': False, 'sidney': False, 'lacking': False, 'students': False, 'continue': True, 'extra': False, 'scorsese': False, 'church': False, 'stick': False, 'explanation': False, 'below': False, 'hip': False, 'quest': False, 'mistake': False, 'jump': False, 'fights': False, 'cusack': False, 'included': False, 'draw': False, '15': False, 'games': False, '1995': False, 'judge': False, 'gotten': False, 'chief': False, 'derek': False, 'thirty': False, 'record': False, 'everybody': False, 'veteran': False, 'develop': False, 'knowledge': False, 'serves': False, 'boogie': False, 'arrives': False, 'clooney': False, 'enter': False, 'russian': False, 'obsessed': False, 'vision': False, 'screenwriters': False, 'luck': False, 'holes': False, 'religious': False, 'witness': False, 'flashbacks': False, 'heavily': False, 'frequently': False, 'capable': True, 'armageddon': False, 'pacing': False, 'rise': False, 'mainly': False, 'fill': False, 'barry': False, 'schwarzenegger': False, 'clean': False, 'previously': False, 'grow': False, 'keaton': True, 'empty': False, 'synopsis': False, 'victims': False, 'adam': False, 'bed': False, 'lawrence': False, 'stallone': False, 'hunter': False, 'memory': False, 'suit': False, 'bobby': False, 'tragedy': False, 'saved': False, 'spot': False, 'unexpected': False, 'encounter': False, 'hearted': False, 'bacon': False, 'disappointment': True, 'bigger': False, 'noir': False, 'nicholson': False, 'evidence': False, 'relatively': False, 'morning': False, 'andrew': False, 'range': False, 'numbers': False, 'walter': False, 'vehicle': False, 'pulled': False, 'describe': False, 'cliched': False, 'sky': False, 'efforts': False, 'logic': False, 'verhoeven': False, 'assistant': False, 'existence': False, 'worker': False, 'freedom': False, 'theatre': False, 'wood': False, 'warm': False, 'fish': False, 'ripley': False, 'mental': False, 'study': False, 'justice': False, 'cliche': False, 'foot': False, 'jonathan': False, 'grown': False, 'unnecessary': False, 'rip': False, 'learned': False, 'skin': False, 'talks': False, 'ball': False, 'alice': False, 'roll': False, 'weeks': False, 'jon': False, 'courtroom': False, 'positive': False, 'putting': False, 'connection': False, 'london': False, 'angel': False, 'contrast': False, 'exact': False, 'fifteen': False, 'eric': False, 'prince': False, 'bound': False, 'traditional': False, 'regular': False, 'eve': False, 'niro': False, 'las': False, 'remain': False, 'anna': False, 'moved': False, 'asking': False, 'genuinely': False, 'rain': False, 'path': False, 'aware': False, 'causes': False, 'international': False, 'naturally': False, 'bank': False, 'faced': False, 'elaborate': False, 'shocking': False, 'besides': False, 'trash': False, 'paris': False, 'captured': False, 'concerned': False, 'rule': False, 'held': False, 'claims': False, 'cell': False, 'daniel': False, 'pilot': False, 'independence': False, 'ocean': False, 'eat': False, 'punch': False, 'desperately': False, 'reminiscent': False, 'knowing': False, 'greater': False, 'largely': False, 'hundred': False, 'shrek': False, 'flash': False, 'occasional': False, 'danger': False, 'thrillers': False, 'essentially': False, 'terror': False, 'whenever': False, 'suggest': False, 'baseball': False, 'blockbuster': False, 'pie': False, 'starting': False, 'satisfying': False, 'allowed': False, 'minds': False, 'neil': False, 'hank': False, 'storm': False, 'disappointed': False, 'jake': False, 'wearing': False, 'explains': False, 'marry': False, 'national': False, 'psychological': False, 'pig': False, 'nomination': False, 'critique': False, 'theatrical': False, 'psycho': False, 'necessarily': False, 'threatening': False, 'fallen': False, 'dogs': False, 'painful': False, 'plots': False, 'sends': False, 'department': True, 'agrees': False, 'league': False, 'covered': False, 'source': False, 'revealed': False, 'historical': False, 'perspective': False, 'patient': False, '17': False, 'arquette': False, 'successfully': False, 'n': False, 'afraid': False, 'mom': False, 'murders': True, 'jar': False, 'suicide': False, 'joy': False, 'nightmare': False, 'halloween': False, 'cuts': False, 'wilson': False, 'nine': False, '80': False, 'drunken': False, 'painfully': False, 'opera': False, 'wrestling': False, 'references': False, 'cars': False, 'bomb': False, 'luke': False, 'pulls': False, 'passion': False, 'sleep': False, 'structure': False, 'agree': False, 'occur': False, 'brad': False, 'chicago': False, 'con': False, 'attacks': False, 'service': False, 'stunts': False, 'bulworth': False, 'murray': False, 'trilogy': False, 'intensity': False, 'tradition': False, 'unfortunate': False, 'seth': False, 'stiller': False, 'suspenseful': False, 'steals': False, 'cat': False, 'investigation': False, 'lovely': False, 'stops': False, 'hanging': False, 'oddly': False, 'choices': False, 'warning': False, 'climactic': False, 'ape': False, 'jungle': False, 'england': False, 'sole': False, 'conspiracy': False, 'surely': False, 'author': False, '50': False, 'program': False, 'broderick': False, 'china': False, 'weapon': False, 'unbelievable': False, 'quaid': False, 'gross': False, 'ensemble': False, 'dinner': False, 'dirty': False, 'soft': False, 'loose': False, 'memories': False, 'harris': False, 'laughter': False, 'nevertheless': False, 'suffering': False, 'initially': False, 'narration': False, 'terribly': False, 'stolen': False, 'answers': False, 'wealthy': False, 'originality': False, 'reaction': False, 'foreign': False, 'significant': False, 'donnell': False, 'fu': False, 'reminded': False, 'subplots': False, 'risk': False, 'creatures': False, '12': False, 'african': False, 'convinced': False, 'lewis': False, 'capture': False, 'makers': False, 'requires': False, 'friendship': False, 'spy': False, 'met': False, 'uninteresting': False, 'christian': False, 'deadly': False, 'critical': False, 'behavior': False, 'slave': False, 'thrills': True, 'duvall': False, 'segment': False, 'monkey': False, 'bitter': False, 'status': False, 'refuses': False, 'nbsp': False, 'understanding': False, 'described': False, 'voiced': False, 'accidentally': False, 'endless': False, 'showed': False, 'schumacher': False, 'hired': False, '2001': False, 'terry': False, 'walks': False, 'li': False, 'complicated': False, 'weekend': False, 'sequels': False, 'excitement': False, 'commercial': False, 'performers': False, 'rick': False, 'beloved': False, 'unlikely': False, 'bag': False, 'keanu': False, 'tight': False, 'terminator': False, 'desert': False, 'german': False, 'wears': False, 'effectively': False, 'flaw': False, 'meg': False, 'thoughts': False, 'scare': False, 'prime': False, 'soldier': False, 'todd': False, 'suffers': False, 'greg': False, 'p': False, 'shop': False, 'discovered': False, 'bear': False, 'melvin': False, 'dragon': False, 'heroine': False, 'sudden': False, 'gag': False, 'killers': False, 'halfway': False, 'strikes': False, 'root': False, 'handled': False, 'handle': False, 'explosions': False, 'mickey': False, 'extraordinary': False, 'sports': False, 'collection': False, 'photography': False, 'speaks': False, 'issue': False, 'mid': False, 'proceedings': False, 'ethan': False, 'delightful': False, 'laughed': False, 'vacation': False, 'pitt': False, 'lebowski': False, 'lovers': False, 'quirky': False, 'texas': False, 'flesh': False, 'dean': False, 'crisis': False, 'touches': False, 'crow': False, 'dollar': False, 'attempting': True, 'murdered': False, '0': False, 'fugitive': True, 'values': False, 'loser': False, 'unable': False, 'drunk': False, 'kung': False, 'western': False, 'childhood': False, 'anywhere': False, 'gift': False, 'destroyed': False, 'chicken': False, 'tense': False, 'gonna': False, 'embarrassing': False, 'selling': False, 'sing': False, 'tragic': False, 'irritating': False, 'wind': False, 'barrymore': False, 'extended': False, 'dozen': False, 'enemy': False, 'frankly': False, 'drop': False, 'norton': False, 'hype': False, 'unusual': False, 'ordinary': False, 'finest': False, 'losing': False, 'ian': False, 'phil': False, 'cole': False, 'goodman': False, 'insight': False, 'promising': True, 'loss': False, 'weapons': False, 'twisted': False, 'deeper': False, 'nonetheless': False, 'advice': False, 'lake': False, 'campaign': False, 'lonely': False, 'karen': False, 'unknown': False, 'knock': False, 'blow': False, '80s': False, 'magazine': False, 'instinct': False, 'italian': False, 'throwing': False, 'costume': False, 'friendly': False, 'fairy': False, 'voices': False, 'helped': False, 'lived': False, 'universe': False, 'entertain': False, 'adventures': False, 'table': False, 'saturday': False, 'signs': False, 'comments': False, 'required': False, 'flashback': False, 'haunted': False, 'stretch': False, 'albeit': False, 'bugs': False, 'paid': False, 'soap': False, 'notes': False, 'sell': False, 'multiple': True, 'practically': False, 'obligatory': False, 'larger': False, 'display': False, 'basis': False, 'hitchcock': False, 'dancing': False, 'mtv': False, 'sidekick': False, 'angle': False, 'jobs': False, 'circumstances': False, 'initial': False, 'bride': False, 'struggling': False, 'related': False, 'exercise': False, 'commentary': False, 'combination': False, 'toys': False, 'closer': False, 'hole': False, 'experiences': False, 'corner': False, 'trio': False, 'cowboy': False, 'politics': False, 'jurassic': False, 'kick': False, 'revolves': False, 'trapped': False, 'recall': False, 'digital': False, 'recognize': False, 'romeo': False, 'reveals': False, 'ironic': False, 'picks': False, 'fifth': False, 'blonde': False, 'encounters': False, 'aforementioned': False, 'inventive': False, 'granted': False, 'remaining': False, 'storytelling': False, 'ad': False, 'copy': False, 'absurd': False, 'handful': False, 'pre': False, 'erotic': False, 'drew': False, 'reporter': False, 'destination': False, 'paper': False, 'dry': False, 'trailers': False, 'priest': False, 'holding': False, 'hint': False, 'medical': False, 'horizon': False, 'blues': False, 'sitcom': False, 'ellie': False, 'buddies': False, 'importantly': False, 'provoking': False, 'challenge': False, 'introduces': False, 'hoffman': False, 'spacey': False, 'clothes': False, 'mouse': False, 'colorful': False, 'magical': False, 'darkness': False, 'replaced': False, 'size': False, 'packed': False, 'cox': True, 'grade': False, 'bore': False, 'outrageous': False, 'assume': False, 'howard': False, 'studios': False, 'bone': True, 'michelle': False, 'deeply': False, 'metal': False, 'sixth': False, 'artistic': False, 'develops': False, 'andy': True, 'colors': False, 'golden': False, 'designed': False, 'hopefully': False, 'featured': False, 'market': False, 'lloyd': False, 'kenneth': False, 'wear': False, 'truck': False, 'generic': True, 'terrorist': False, 'beautifully': False, 'costner': False, 'judd': False, 'reese': False, 'connor': True, 'sir': False, 'wes': False, 'cgi': False, 'chases': False, 'remotely': False, 'midnight': False, 'homage': False, 'conventional': False, 'depressing': True, 'higher': False, 'hearing': False, 'glenn': False, 'tiny': False, 'sandra': False, 'perform': False, 'scheme': False, 'eating': False, 'threat': False, 'alas': False, 'drives': False, 'inept': False, 'doors': False, 'universal': False, 'multi': False, 'prinze': False, 'gorgeous': False, 'par': False, 'location': False, 'coach': False, 'lisa': False, 'screening': False, 'notable': False, 'dressed': False, 'morgan': False, 'research': False, 'scenery': False, 'abandoned': False, 'bleak': False, 'overcome': False, 'mafia': False, 'penn': False, 'suggests': False, 'primary': False, 'dillon': False, 'directorial': False, 'bodies': False, 'weight': False, 'investigate': False, 'chain': False, 'rolling': False, 'blown': False, 'proof': False, 'contemporary': False, 'jackal': False, 'steps': False, '2000': False, '54': False, 'besson': False, 'treatment': False, 'religion': False, 'maggie': False, 'flawed': False, 'round': False, 'cable': False, 'capsule': False, 'pregnant': False, 'birth': False, 'wonders': False, 'semi': False, 'countless': True, 'jet': False, 'gene': False, 'theory': False, 'bits': False, 'graham': False, 'whatsoever': False, 'youth': False, 'cry': False, 'wong': False, 'executive': False, 'cutting': False, 'statement': False, 'occurs': False, 'sheriff': False, 'screaming': False, 'river': False, 'brutal': False, 'bother': False, 'forth': False, 'obnoxious': False, 'pleasant': False, 'foster': False, 'hughes': False, 'silver': False, 'depp': False, 'laura': False, 'americans': False, 'ancient': False, 'focuses': False, 'bang': False, 'brilliantly': False, 'troubled': False, 'term': False, 'dan': False, 'parker': False, 'notch': False, 'ordell': False, 'types': False, 'wooden': False, 'warner': False, 'disbelief': False, 'strip': False, 'families': False, 'trite': False, 'convince': True, 'hang': False, 'fortune': True, 'natasha': False, 'fortunately': False, 'kilmer': False, 'clueless': False, 'mine': False, 'appearances': False, 'deserve': True, 'beating': False, 'conversation': False, 'qualities': False, 'projects': False, 'according': False, 'dialog': False, 'carries': False, 'sonny': False, 'stereotypes': False, 'episodes': False, 'protagonists': False, 'agents': False, 'armed': False, 'mitchell': False, 'trick': False, 'accomplished': False, 'davis': False, 'beatty': False, 'mere': False, 'destruction': False, 'suffer': False, 'trade': False, 'tucker': False, 'arm': False, 'luckily': False, 'crafted': False, 'facts': False, 'kim': False, 'johnson': False, 'disco': False, 'stewart': False, 'likeable': False, 'tribe': False, 'mature': False, 'mile': False, 'progresses': False, 'favor': False, 'exchange': False, 'spoken': False, 'sake': False, 'roth': False, 'stereotypical': False, 'irish': False, 'festival': False, 'buzz': False, 'mighty': False, 'passed': False, 'operation': True, 'boxing': False, 'defense': False, 'thief': False, 'harrelson': False, '1993': False, 'gratuitous': False, '40': False, 'innocence': False, 'expensive': False, 'fiennes': False, 'intellectual': False, 'lucy': False, 'mainstream': False, 'decades': False, 'emma': False, 'false': False, 'bridge': False, 'base': False, 'appeared': False, 'setup': False, 'lie': False, 'delight': False, 'stylish': False, 'cruel': False, 'refreshing': False, 'abilities': False, 'corny': False, 'breasts': False, 'dick': False, 'baker': False, 'block': False, 'neeson': False, 'actresses': False, 'raise': False, 'airplane': False, 'dropped': False, 'established': False, 'fred': False, 'succeed': False, 'degree': False, 'vs': False, 'october': False, 'pacino': False, 'dicaprio': False, 'executed': False, 'thrilling': False, 'bastard': False, 'spending': False, 'providing': False, 'training': False, 'picked': False, 'awkward': False, 'realism': False, 'adapted': False, 'jan': False, 'charge': False, 'inner': False, 'north': False, 'command': False, 'increasingly': False, 'tyler': False, 'fits': False, 'trial': False, 'warrior': False, 'honor': False, 'holiday': False, 'arms': False, 'ron': False, 'mixed': False, 'kubrick': False, 'tedious': False, 'workers': False, 'perfection': False, 'amanda': False, 'esque': False, 'cuba': False, 'tears': False, 'execution': True, 'dress': False, 'francis': False, 'legendary': False, 'fincher': False, 'neve': False, 'miles': False, 'scientists': False, 'sat': False, 'susan': False, 'persona': False, 'intentions': False, 'paltrow': False, 'smoking': False, 'wan': False, 'diamond': False, 'stealing': False, 'prisoners': False, 'spoilers': False, 'jolie': False, 'branagh': False, 'mask': False, 'spiritual': False, 'equal': False, 'raised': False, 'clue': False, 'suits': False, 'skip': False, 'robot': False, 'arthur': False, 'forest': False, 'entry': False, 'viewed': False, 'independent': False, 'expert': False, 'ghosts': False, 'reference': False, 'remembered': False, 'scared': False, 'classics': False, 'henstridge': False, 'alicia': False, 'shut': False, 'jordan': False, 'notably': False, 'designer': False, 'endearing': False, 'tend': False, 'rape': False, 'escapes': True, 'ring': False, 'notion': False, 'bet': False, 'variety': False, 'glory': False, 'consistently': False, 'area': False, 'random': False, 'expression': False, 'editor': False, 'sun': False, 'com': False, 'drinking': False, 'letting': False, 'los': False, 'angeles': False, 'prisoner': False, 'deserved': False, 'strangely': False, 'spots': False, 'charisma': False, 'makeup': False, 'carefully': False, 'survivors': False, 'mail': False, 'via': False, 'anymore': False, 'gordon': False, 'sorts': False, 'tracks': False, 'factor': False, 'gory': False, 'combined': False, 'flubber': False, 'sympathy': False, 'achievement': False, 'robocop': False, 'virtual': False, 'installment': False, 'movement': False, 'personally': False, 'sword': False, 'blind': False, 'produce': False, 'demands': False, 'accused': False, 'anybody': False, 'exists': False, 'stronger': False, 'timing': False, 'handsome': False, 'prior': False, 'distracting': False, 'idiotic': False, 'neighbor': False, 'fantasies': False, 'teens': False, 'enormous': False, 'horribly': False, 'energetic': False, 'wave': False, 'interaction': False, 'condition': False, 'banderas': False, 'jesus': False, 'reminds': False, 'restaurant': False, 'marks': False, 'fonda': False, 'betty': False, 'manager': False, 'negative': False, 'attraction': False, 'wing': False, 'randy': False, 'insult': False, 'everywhere': False, 'crucial': False, 'surreal': False, 'carol': False, 'learning': False, 'wallace': False, '1994': False, 'franchise': False, 'filming': False, 'gloria': False, 'village': False, 'butt': False, '\\x12': False, 'wins': False, 'malkovich': False, 'wahlberg': False, 'drag': False, 'craven': False, 'downright': False}\n"
     ]
    }
   ],
   "source": [
    "print(find_features(movie_reviews.words('neg/cv162_10977.txt')))"
   ]
  },
  {
   "source": [
    "### creating feature sets that will have tuples of category and presence of words from feature vector"
   ],
   "cell_type": "markdown",
   "metadata": {}
  },
  {
   "cell_type": "code",
   "execution_count": 75,
   "metadata": {},
   "outputs": [],
   "source": [
    "feature_sets = [(find_features(words), category) for (words, category) in documents]"
   ]
  },
  {
   "source": [
    "## Let's build a classifier to classify if the review is positive or negative"
   ],
   "cell_type": "markdown",
   "metadata": {}
  },
  {
   "source": [
    "### train test split : arguably best ratio is 80:20 so lets do that!"
   ],
   "cell_type": "markdown",
   "metadata": {}
  },
  {
   "cell_type": "code",
   "execution_count": 76,
   "metadata": {},
   "outputs": [],
   "source": [
    "train = feature_sets[:1800]\n",
    "test = feature_sets[1800:]"
   ]
  },
  {
   "cell_type": "code",
   "execution_count": 77,
   "metadata": {},
   "outputs": [],
   "source": [
    "clf = nltk.NaiveBayesClassifier.train(train)"
   ]
  },
  {
   "cell_type": "code",
   "execution_count": 78,
   "metadata": {},
   "outputs": [],
   "source": [
    "accuracy = nltk.classify.util.accuracy(clf, test)"
   ]
  },
  {
   "cell_type": "code",
   "execution_count": 79,
   "metadata": {},
   "outputs": [
    {
     "output_type": "stream",
     "name": "stdout",
     "text": [
      "The Naive Bayes Classifier accuracy is 85.0%\n"
     ]
    }
   ],
   "source": [
    "print(f\"The Naive Bayes Classifier accuracy is {accuracy*100}%\")"
   ]
  },
  {
   "cell_type": "code",
   "execution_count": 80,
   "metadata": {},
   "outputs": [
    {
     "output_type": "execute_result",
     "data": {
      "text/plain": [
       "0.85"
      ]
     },
     "metadata": {},
     "execution_count": 80
    }
   ],
   "source": [
    "nltk.classify.accuracy(clf,test)"
   ]
  },
  {
   "source": [
    "## So, there we go, Naive Bayes Classifier with an 85% accuracy!"
   ],
   "cell_type": "markdown",
   "metadata": {}
  },
  {
   "source": [
    "### Let's display some valuable words in this classifier!"
   ],
   "cell_type": "markdown",
   "metadata": {}
  },
  {
   "cell_type": "code",
   "execution_count": 81,
   "metadata": {},
   "outputs": [
    {
     "output_type": "stream",
     "name": "stdout",
     "text": [
      "Most Informative Features\n                  seagal = True              neg : pos    =     12.0 : 1.0\n             outstanding = True              pos : neg    =     10.8 : 1.0\n                   mulan = True              pos : neg    =      9.3 : 1.0\n                  finest = True              pos : neg    =      7.0 : 1.0\n                 idiotic = True              neg : pos    =      6.6 : 1.0\n             wonderfully = True              pos : neg    =      6.4 : 1.0\n              schumacher = True              neg : pos    =      6.4 : 1.0\n                  wasted = True              neg : pos    =      6.4 : 1.0\n                   damon = True              pos : neg    =      5.8 : 1.0\n                   flynt = True              pos : neg    =      5.8 : 1.0\n                lebowski = True              pos : neg    =      5.8 : 1.0\n                   awful = True              neg : pos    =      5.7 : 1.0\n            embarrassing = True              neg : pos    =      5.6 : 1.0\n              henstridge = True              neg : pos    =      5.6 : 1.0\n                    lame = True              neg : pos    =      5.5 : 1.0\n"
     ]
    }
   ],
   "source": [
    "clf.show_most_informative_features(15)"
   ]
  },
  {
   "source": [
    "## Let's implement some more Naive Bayes Classifiers  "
   ],
   "cell_type": "markdown",
   "metadata": {}
  },
  {
   "cell_type": "code",
   "execution_count": 82,
   "metadata": {},
   "outputs": [],
   "source": [
    "from nltk.classify.scikitlearn import SklearnClassifier\n",
    "from sklearn.naive_bayes import MultinomialNB, BernoulliNB"
   ]
  },
  {
   "cell_type": "code",
   "execution_count": 83,
   "metadata": {},
   "outputs": [
    {
     "output_type": "stream",
     "name": "stdout",
     "text": [
      "Multinomial Naive Bayes Classifier\n",
      "Accuracy : 0.845\n"
     ]
    }
   ],
   "source": [
    "MNB_clf = SklearnClassifier(MultinomialNB())\n",
    "MNB_clf.train(train)\n",
    "print(\"Multinomial Naive Bayes Classifier\")\n",
    "print(f\"Accuracy : {nltk.classify.accuracy(MNB_clf, test)}\")"
   ]
  },
  {
   "cell_type": "code",
   "execution_count": 84,
   "metadata": {},
   "outputs": [
    {
     "output_type": "stream",
     "name": "stdout",
     "text": [
      "Bernoulli Naive Bayes Classifier\n",
      "Accuracy : 0.845\n"
     ]
    }
   ],
   "source": [
    "BNB_clf = SklearnClassifier(MultinomialNB())\n",
    "BNB_clf.train(train)\n",
    "print(\"Bernoulli Naive Bayes Classifier\")\n",
    "print(f\"Accuracy : {nltk.classify.accuracy(BNB_clf, test)}\")"
   ]
  },
  {
   "source": [
    "## We can implement more sklearn classifiers other than Naive Bayes'"
   ],
   "cell_type": "markdown",
   "metadata": {}
  },
  {
   "source": [
    "### First, let's implement support vector machines"
   ],
   "cell_type": "markdown",
   "metadata": {}
  },
  {
   "cell_type": "code",
   "execution_count": 85,
   "metadata": {},
   "outputs": [],
   "source": [
    "from sklearn.svm import SVC, LinearSVC, NuSVC"
   ]
  },
  {
   "cell_type": "code",
   "execution_count": 86,
   "metadata": {},
   "outputs": [
    {
     "output_type": "stream",
     "name": "stdout",
     "text": [
      "Support Vector Classifier\n",
      "Accuracy : 0.865\n"
     ]
    }
   ],
   "source": [
    "SVC_clf = SklearnClassifier(SVC())\n",
    "SVC_clf.train(train)\n",
    "print(\"Support Vector Classifier\")\n",
    "print(f\"Accuracy : {nltk.classify.accuracy(SVC_clf, test)}\")"
   ]
  },
  {
   "cell_type": "code",
   "execution_count": 87,
   "metadata": {},
   "outputs": [
    {
     "output_type": "stream",
     "name": "stdout",
     "text": [
      "Linear Support Vector Classifier\n",
      "Accuracy : 0.83\n"
     ]
    }
   ],
   "source": [
    "LinearSVC_clf = SklearnClassifier(LinearSVC())\n",
    "LinearSVC_clf.train(train)\n",
    "print(\"Linear Support Vector Classifier\")\n",
    "print(f\"Accuracy : {nltk.classify.accuracy(LinearSVC_clf, test)}\")"
   ]
  },
  {
   "cell_type": "code",
   "execution_count": 89,
   "metadata": {},
   "outputs": [
    {
     "output_type": "stream",
     "name": "stdout",
     "text": [
      "Nu-supported Vector Classifier\n",
      "Accuracy : 0.86\n"
     ]
    }
   ],
   "source": [
    "NuSVC_clf = SklearnClassifier(NuSVC())\n",
    "NuSVC_clf.train(train)\n",
    "print(\"Nu-supported Vector Classifier\")\n",
    "print(f\"Accuracy : {nltk.classify.accuracy(NuSVC_clf, test)}\")"
   ]
  },
  {
   "source": [
    "### Now some tree classifiers"
   ],
   "cell_type": "markdown",
   "metadata": {}
  },
  {
   "cell_type": "code",
   "execution_count": 90,
   "metadata": {},
   "outputs": [],
   "source": [
    "from sklearn.ensemble import RandomForestClassifier, AdaBoostClassifier\n",
    "from sklearn.tree import DecisionTreeClassifier"
   ]
  },
  {
   "cell_type": "code",
   "execution_count": 91,
   "metadata": {},
   "outputs": [
    {
     "output_type": "stream",
     "name": "stdout",
     "text": [
      "Random Forest Classifier\n",
      "Accuracy : 0.805\n"
     ]
    }
   ],
   "source": [
    "RFClf = SklearnClassifier(RandomForestClassifier())\n",
    "RFClf.train(train)\n",
    "print(\"Random Forest Classifier\")\n",
    "print(f\"Accuracy : {nltk.classify.accuracy(RFClf, test)}\")"
   ]
  },
  {
   "cell_type": "code",
   "execution_count": 92,
   "metadata": {},
   "outputs": [
    {
     "output_type": "stream",
     "name": "stdout",
     "text": [
      "Ada Boost Classifier\n",
      "Accuracy : 0.755\n"
     ]
    }
   ],
   "source": [
    "ABClf = SklearnClassifier(AdaBoostClassifier())\n",
    "ABClf.train(train)\n",
    "print(\"Ada Boost Classifier\")\n",
    "print(f\"Accuracy : {nltk.classify.accuracy(ABClf, test)}\")"
   ]
  },
  {
   "cell_type": "code",
   "execution_count": 93,
   "metadata": {},
   "outputs": [
    {
     "output_type": "stream",
     "name": "stdout",
     "text": [
      "Decision Tree Classifier\n",
      "Accuracy : 0.605\n"
     ]
    }
   ],
   "source": [
    "DTClf = SklearnClassifier(DecisionTreeClassifier())\n",
    "DTClf.train(train)\n",
    "print(\"Decision Tree Classifier\")\n",
    "print(f\"Accuracy : {nltk.classify.accuracy(DTClf, test)}\")"
   ]
  },
  {
   "source": [
    "### A neural network one as well\n",
    " "
   ],
   "cell_type": "markdown",
   "metadata": {}
  },
  {
   "cell_type": "code",
   "execution_count": 94,
   "metadata": {},
   "outputs": [],
   "source": [
    "from sklearn.neural_network import MLPClassifier"
   ]
  },
  {
   "cell_type": "code",
   "execution_count": 95,
   "metadata": {},
   "outputs": [
    {
     "output_type": "stream",
     "name": "stdout",
     "text": [
      "Multi layered perceptron Classifier\n",
      "Accuracy : 0.85\n"
     ]
    }
   ],
   "source": [
    "MLPClf = SklearnClassifier(MLPClassifier())\n",
    "MLPClf.train(train)\n",
    "print(\"Multi layered perceptron Classifier\")\n",
    "print(f\"Accuracy : {nltk.classify.accuracy(MLPClf, test)}\")"
   ]
  },
  {
   "source": [
    "### and lastly, our simple yet powerful Logistic Regression"
   ],
   "cell_type": "markdown",
   "metadata": {}
  },
  {
   "cell_type": "code",
   "execution_count": 96,
   "metadata": {},
   "outputs": [],
   "source": [
    "from sklearn.linear_model import LogisticRegression, SGDClassifier"
   ]
  },
  {
   "cell_type": "code",
   "execution_count": 97,
   "metadata": {},
   "outputs": [
    {
     "output_type": "stream",
     "name": "stdout",
     "text": [
      "Logistic Regression Classifier\n",
      "Accuracy : 0.865\n"
     ]
    }
   ],
   "source": [
    "LRClf = SklearnClassifier(LogisticRegression())\n",
    "LRClf.train(train)\n",
    "print(\"Logistic Regression Classifier\")\n",
    "print(f\"Accuracy : {nltk.classify.accuracy(LRClf, test)}\")"
   ]
  },
  {
   "cell_type": "code",
   "execution_count": 98,
   "metadata": {},
   "outputs": [
    {
     "output_type": "stream",
     "name": "stdout",
     "text": [
      "Stochastic Gradient Descent Classifier\n",
      "Accuracy : 0.82\n"
     ]
    }
   ],
   "source": [
    "SGDClf = SklearnClassifier(SGDClassifier())\n",
    "SGDClf.train(train)\n",
    "print(\"Stochastic Gradient Descent Classifier\")\n",
    "print(f\"Accuracy : {nltk.classify.accuracy(SGDClf, test)}\")"
   ]
  },
  {
   "source": [
    "### We can see that with default parameters, the classifiers are classifying reviews at a maximum of 86.5% accuracy!"
   ],
   "cell_type": "markdown",
   "metadata": {}
  },
  {
   "source": [
    "## Conclusion\n",
    "\n",
    "<table>\n",
    "    <tr>\n",
    "        <th>Classifier</th>\n",
    "        <th>Accuracy</th>\n",
    "    </tr>\n",
    "    <tr>\n",
    "        <td>Naive Bayes'</td>\n",
    "        <td>0.85</td>\n",
    "    </tr>\n",
    "    <tr>\n",
    "        <td>Multinomial Naive Bayes'</td>\n",
    "        <td>0.845</td>\n",
    "    </tr>\n",
    "    <tr>\n",
    "        <td>Bernoulli Naive Bayes'</td>\n",
    "        <td>0.845</td>\n",
    "    </tr>\n",
    "    <tr>\n",
    "        <td>Support Vector</td>\n",
    "        <td>0.865</td>\n",
    "    </tr>\n",
    "    <tr>\n",
    "        <td>Linearly supported Vector</td>\n",
    "        <td>0.83</td>\n",
    "    </tr>\n",
    "    <tr>\n",
    "        <td>Nu-supported Vector</td>\n",
    "        <td>0.86</td>\n",
    "    </tr>\n",
    "    <tr>\n",
    "        <td>Random Forest</td>\n",
    "        <td>0.805</td>\n",
    "    </tr>\n",
    "    <tr>\n",
    "        <td>Ada Boost</td>\n",
    "        <td>0.755</td>\n",
    "    </tr>\n",
    "    <tr>\n",
    "        <td>Decision Tree</td>\n",
    "        <td>0.605</td>\n",
    "    </tr>\n",
    "    <tr>\n",
    "        <td>Multilayered Perceptron</td>\n",
    "        <td>0.85</td>\n",
    "    </tr>\n",
    "    <tr>\n",
    "        <td>Logistic Regression</td>\n",
    "        <td>0.865</td>\n",
    "    </tr>\n",
    "    <tr>\n",
    "        <td>Stochastic Gradient Descent</td>\n",
    "        <td>0.82</td>\n",
    "    </tr>\n",
    "</table>"
   ],
   "cell_type": "markdown",
   "metadata": {}
  },
  {
   "source": [
    "### Thank you!"
   ],
   "cell_type": "markdown",
   "metadata": {}
  }
 ]
}